{
 "cells": [
  {
   "cell_type": "code",
   "execution_count": 11,
   "metadata": {},
   "outputs": [],
   "source": [
    "import requests\n",
    "import bs4\n",
    "\n",
    "response = requests.get('https://www.elsoldemexico.com.mx/')"
   ]
  },
  {
   "cell_type": "code",
   "execution_count": 12,
   "metadata": {},
   "outputs": [],
   "source": [
    "soup = bs4.BeautifulSoup(response.text, 'html.parser')"
   ]
  },
  {
   "cell_type": "code",
   "execution_count": 13,
   "metadata": {},
   "outputs": [],
   "source": [
    "links = [a['href'] for a in soup.select('.title a')]"
   ]
  },
  {
   "cell_type": "code",
   "execution_count": 14,
   "metadata": {},
   "outputs": [
    {
     "name": "stdout",
     "output_type": "stream",
     "text": [
      "https://www.elsoldemexico.com.mx/mexico/justicia/tony-montana-hermano-del-mencho-lider-del-cjng-ingresa-al-penal-del-altiplano-9370719.html\n",
      "https://www.elsoldemexico.com.mx/finanzas/tormenta-invernal-en-eu-cuales-son-los-vuelos-cancelados-en-mexico-9370228.html\n",
      "https://www.elsoldemexico.com.mx/mexico/sociedad/ministra-yasmin-esquivel-es-acusada-de-plagio-en-su-tesis-fes-aragon-revisara-el-trabajo-9369675.html\n",
      "https://www.elsoldemexico.com.mx/republica/sociedad/fuerzas-armadas-realizan-operativo-en-tlajomulco-jalisco-9370461.html\n",
      "https://www.elsoldemexico.com.mx/mexico/sociedad/declaran-emergencia-en-sistema-electrico-por-frente-frio-en-mexico-9368754.html\n",
      "https://www.elsoldemexico.com.mx/finanzas/productos-y-servicios-suben-en-primera-quincena-de-diciembre-cuales-son-los-mas-caros-9368959.html\n",
      "https://www.elsoldemexico.com.mx/doble-via/soy-poliamor-para-quien-quiera-y-para-quien-aguante-9366190.html\n",
      "https://www.elsoldemexico.com.mx/gossip/soy-los-rompimientos-de-la-moda-con-los-famosos-9366249.html\n",
      "https://www.elsoldemexico.com.mx/cultura/soy-el-ritual-detras-de-unas-zapatillas-de-ballet-9366322.html\n",
      "https://www.elsoldemexico.com.mx/doble-via/ecologia/jaguar-no-todo-esta-perdido-para-el-felino-de-felinos-9361179.html\n",
      "https://www.elsoldemexico.com.mx/cultura/dos-decadas-sin-joe-strummer-de-the-clash-9361106.html\n",
      "https://www.elsoldemexico.com.mx/mundo/la-respuesta-esta-en-el-espacio-9361290.html\n",
      "https://www.elsoldemexico.com.mx/cultura/run-the-jewels-una-experiencia-completa-alrededor-de-la-musica-9356957.html\n",
      "https://www.elsoldemexico.com.mx/finanzas/tecnologia/elon-musk-un-mal-ejemplo-a-seguir-9356996.html\n",
      "https://www.elsoldemexico.com.mx/doble-via/ecologia/exigen-comercio-electronico-sin-plasticos-9357026.html\n",
      "https://www.elsoldemexico.com.mx/finanzas/estas-son-las-tendencias-laborales-para-2023-9350921.html\n",
      "https://www.elsoldemexico.com.mx/finanzas/tecnologia/se-pueden-regular-las-redes-sociales-9350949.html\n",
      "https://www.elsoldemexico.com.mx/doble-via/ciencia/mas-sobre-la-energia-que-puede-cambiar-el-mundo-9351050.html\n",
      "https://www.elsoldemexico.com.mx/analisis/22-anos-9366757.html\n",
      "https://www.elsoldemexico.com.mx/analisis/vida-y-milagros-este-domingo-llega-el-especial-los-rostros-de-2022-9367182.html\n",
      "https://www.elsoldemexico.com.mx/analisis/balas-cargadas-de-rencor-9366735.html\n",
      "https://www.elsoldemexico.com.mx/analisis/fuera-de-agenda-el-expediente-cienfuegos-9366706.html\n",
      "https://www.elsoldemexico.com.mx/analisis/las-batallas-el-hombre-oscuro-de-la-4t-9366760.html\n",
      "https://www.elsoldemexico.com.mx/analisis/a-la-sombra-rosario-piedra-ibarra-9367303.html\n",
      "https://www.elsoldemexico.com.mx/analisis/el-periodismo-y-la-democracia-bajo-acoso-9366720.html\n",
      "https://www.elsoldemexico.com.mx/analisis/el-cristianismo-9366748.html\n",
      "https://www.elsoldemexico.com.mx/analisis/22-anos-9366757.html\n",
      "https://www.elsoldemexico.com.mx/analisis/vida-y-milagros-este-domingo-llega-el-especial-los-rostros-de-2022-9367182.html\n",
      "https://www.elsoldemexico.com.mx/analisis/balas-cargadas-de-rencor-9366735.html\n",
      "https://www.elsoldemexico.com.mx/analisis/fuera-de-agenda-el-expediente-cienfuegos-9366706.html\n",
      "https://www.elsoldemexico.com.mx/finanzas/caen-reservas-de-pemex-al-cierre-de-2022-9367528.html\n",
      "https://www.elsoldemexico.com.mx/finanzas/economia-informal-sube-su-aporte-en-el-pib-9352943.html\n",
      "https://www.elsoldemexico.com.mx/finanzas/tesla-planea-anunciar-planta-de-vehiculos-electricos-en-mexico-la-proxima-semana-9345315.html\n",
      "https://www.elsoldemexico.com.mx/finanzas/prohibicion-de-maiz-transgenico-mexico-y-eu-esperan-fin-a-disputa-en-enero-9345104.html\n",
      "https://www.elsoldemexico.com.mx/analisis/osvaldo/cierre-de-ano-9366773.html\n",
      "https://www.elsoldemexico.com.mx/analisis/ele-dale-dale-dale-9366777.html\n",
      "https://www.elsoldemexico.com.mx/deportes/futbol/pele-recibe-cuidados-renales-y-cardiacos-pasara-navidad-en-el-hospital-9367791.html\n",
      "https://www.elsoldemexico.com.mx/deportes/futbol/gracias-principito-andres-guardado-reafirmo-su-retiro-de-la-seleccion-mexicana-9363590.html\n",
      "https://www.elsoldemexico.com.mx/deportes/futbol/messi-y-argentina-celebran-el-titulo-en-buenos-aires-desfile-con-millones-de-personas-9359068.html\n",
      "https://www.elsoldemexico.com.mx/deportes/futbol/lionel-messi-no-suelta-la-copa-del-mundo-ni-un-segundo-hasta-durmio-con-ella-9358851.html\n",
      "https://www.elsoldemexico.com.mx/deportes/en-el-ring/canelo-alvarez-asi-es-la-estatua-con-la-que-fue-inmortalizado-en-juanacatlan-jalisco-9357578.html\n",
      "https://www.elsoldemexico.com.mx/deportes/futbol/qatar-2022-festejo-de-dibu-martinez-en-la-final-genera-lluvia-de-criticas-video-9350201.html\n"
     ]
    }
   ],
   "source": [
    "for link in links:\n",
    "  print(link)"
   ]
  }
 ],
 "metadata": {
  "kernelspec": {
   "display_name": "data-engineering",
   "language": "python",
   "name": "python3"
  },
  "language_info": {
   "codemirror_mode": {
    "name": "ipython",
    "version": 3
   },
   "file_extension": ".py",
   "mimetype": "text/x-python",
   "name": "python",
   "nbconvert_exporter": "python",
   "pygments_lexer": "ipython3",
   "version": "3.8.15"
  },
  "orig_nbformat": 4,
  "vscode": {
   "interpreter": {
    "hash": "54021f9008d0c85da40be4f921cb46c2655eb9d60f66381bf8385350b3aac849"
   }
  }
 },
 "nbformat": 4,
 "nbformat_minor": 2
}
