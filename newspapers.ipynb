{
 "cells": [
  {
   "cell_type": "code",
   "execution_count": 2,
   "metadata": {},
   "outputs": [],
   "source": [
    "import requests\n",
    "import bs4\n",
    "\n",
    "http_response = requests.get('https://www.elsoldemexico.com.mx/')\n",
    "soup = bs4.BeautifulSoup(http_response.text, 'html.parser')\n"
   ]
  },
  {
   "cell_type": "code",
   "execution_count": 70,
   "metadata": {},
   "outputs": [],
   "source": [
    "titles = soup.select('.teaser div .title')\n",
    "titles = [title.text.strip() for title in titles]\n",
    "\n",
    "descriptions = soup.select('.teaser div .leadtext')\n",
    "descriptions = [description.text.strip() for description in descriptions]"
   ]
  },
  {
   "cell_type": "code",
   "execution_count": 71,
   "metadata": {},
   "outputs": [],
   "source": [
    "news = [{'title': titles[i], 'description': descriptions[i]} for i in range(13)]"
   ]
  },
  {
   "cell_type": "code",
   "execution_count": 72,
   "metadata": {},
   "outputs": [
    {
     "name": "stdout",
     "output_type": "stream",
     "text": [
      "--------------------------------\n",
      "Titulo: Tormenta invernal en EU afecta operaciones en México: ya hay vuelos cancelados\n",
      "\n",
      "Aunque esta tendencia pone en entredicho los estándares de las relaciones tradicionales, sin duda cada vez toma más fuerza, sobre todo entre las nuevas generaciones\n",
      "--------------------------------\n",
      "Titulo: Trasladan a Tony Montana, hermano de El Mencho, al penal del Altiplano\n",
      "\n",
      "Aunque las marcas y las celebridades suelen hacer campañas publicitarias que dan pie a exitosas relaciones comerciales, también hay casos en que surgen los desencuentros, generalmente debido al mal comportamiento de los últimos\n",
      "--------------------------------\n",
      "Titulo: Declaran emergencia en sistema eléctrico por frente frío\n",
      "\n",
      "Los interesados en practicar el ballet clásico deben considerar que los preparativos, las extensas horas de trabajo y los aditamentos necesarios conforman lo que algunos llaman “un ritual muy puntilloso”\n",
      "--------------------------------\n",
      "Titulo: Fundador de FTX obtiene la libertad condicional tras pagar 250 mdd\n",
      "\n",
      "En los últimos 10 años la población del jaguar incrementó 20 por ciento gracias a las acciones de conservación que han puesto en marcha diversas asociaciones públicas y privadas\n",
      "--------------------------------\n",
      "Titulo: Destitución de Castillo fue un golpe del conservadurismo, insiste AMLO\n",
      "\n",
      "Este 22 de diciembre se cumplen dos décadas de la muerte del cantante principal y letrista de la banda de punk, un artista cuya obra ha tenido un profundo impacto en varias generaciones de escuchas inconformes\n",
      "--------------------------------\n",
      "Titulo: Inflación acelera a 7.77% en primera quincena de diciembre\n",
      "\n",
      "Astronautas españoles buscarán las soluciones al cáncer y la escasez de recursos en sus próximas misiones y proyectos respaldados por la Agencia Espacial Europea\n",
      "--------------------------------\n",
      "Titulo: #SOY | Poliamor: Para quien quiera y para quien aguante\n",
      "\n",
      "2022 fue un buen año para el conjunto norteamericano, que tocó en muchos países, incluido México, donde fueron uno de los artistas principales del festival Corona Capital\n",
      "--------------------------------\n",
      "Titulo: #SOY | Los rompimientos de la moda con los famosos\n",
      "\n",
      "A menos de dos meses de que tomó el control de Twitter, diversas voces han reprobado su liderazgo arcaico e impersonal, antítesis de los nuevos enfoques de trabajo humanistas e inclusivos\n",
      "--------------------------------\n",
      "Titulo: #SOY | El ritual detrás de unas zapatillas de ballet\n",
      "\n",
      "Activistas medioambientales piden que el gobierno de la Ciudad de México regule a las empresas que ofrecen este servicio, para que estas dejen de utilizar plásticos de un solo uso en sus envíos\n",
      "--------------------------------\n",
      "Titulo: Jaguar: No todo está perdido para el “felino de felinos”\n",
      "\n",
      "En el año que está por comenzar, la retención y atracción de talento se mantendrán como un desafío para las empresas\n",
      "--------------------------------\n",
      "Titulo: Dos décadas sin Joe Strummer, de The Clash\n",
      "\n",
      "La adquisición de Twitter por parte de Elon Musk y sus controvertidas decisiones han alimentado una nueva ola de llamados a regular las empresas de redes socio digitales\n",
      "--------------------------------\n",
      "Titulo: ¿La respuesta está en el espacio?\n",
      "\n",
      "La física Denise Hinkel, quien es una de las involucradas en el proyecto de fusión nuclear más grande de los últimos tiempos, habla de las posibilidades de esta tecnología en el camino hacia un mundo más sostenible\n",
      "--------------------------------\n",
      "Titulo: Run the Jewels: Una experiencia completa alrededor de la música\n",
      "\n",
      "El astro brasileño se encuentra en el hospital desde finales de noviembre, y aunque no se encuentra grave, tendrá que pasar navidad en el hospital\n"
     ]
    }
   ],
   "source": [
    "for new in news:\n",
    "  print('--------------------------------')\n",
    "  print('Titulo: ' + new['title'] + '\\n')\n",
    "  print(new['description'])"
   ]
  },
  {
   "cell_type": "code",
   "execution_count": null,
   "metadata": {},
   "outputs": [],
   "source": []
  }
 ],
 "metadata": {
  "kernelspec": {
   "display_name": "data-engineering",
   "language": "python",
   "name": "python3"
  },
  "language_info": {
   "codemirror_mode": {
    "name": "ipython",
    "version": 3
   },
   "file_extension": ".py",
   "mimetype": "text/x-python",
   "name": "python",
   "nbconvert_exporter": "python",
   "pygments_lexer": "ipython3",
   "version": "3.8.15 (default, Nov 24 2022, 15:19:38) \n[GCC 11.2.0]"
  },
  "orig_nbformat": 4,
  "vscode": {
   "interpreter": {
    "hash": "54021f9008d0c85da40be4f921cb46c2655eb9d60f66381bf8385350b3aac849"
   }
  }
 },
 "nbformat": 4,
 "nbformat_minor": 2
}
