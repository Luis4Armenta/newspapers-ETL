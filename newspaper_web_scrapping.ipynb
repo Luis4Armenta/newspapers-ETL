{
 "cells": [
  {
   "attachments": {},
   "cell_type": "markdown",
   "metadata": {},
   "source": [
    "# Obteniendo datos de periodicos"
   ]
  },
  {
   "attachments": {},
   "cell_type": "markdown",
   "metadata": {},
   "source": [
    "## obeniendo datos del periodico El pais"
   ]
  },
  {
   "cell_type": "code",
   "execution_count": 58,
   "metadata": {},
   "outputs": [],
   "source": [
    "# importando nuestras herramientas\n",
    "import bs4\n",
    "import requests"
   ]
  },
  {
   "cell_type": "code",
   "execution_count": 59,
   "metadata": {},
   "outputs": [],
   "source": [
    "# Obteniendo datos del universal\n",
    "response = requests.get('https://elpais.com/mexico')"
   ]
  },
  {
   "cell_type": "code",
   "execution_count": 60,
   "metadata": {},
   "outputs": [],
   "source": [
    "# Iniciando manejo con bs4\n",
    "soup = bs4.BeautifulSoup(response.text, 'html.parser')"
   ]
  },
  {
   "attachments": {},
   "cell_type": "markdown",
   "metadata": {},
   "source": [
    "### Extrayendo los titulos de las noticias"
   ]
  },
  {
   "cell_type": "code",
   "execution_count": 61,
   "metadata": {},
   "outputs": [],
   "source": [
    "titles = soup.select(\".c+.c-d+.c--m-n .c_t a\")\n",
    "titles = [title.text for title in titles]"
   ]
  },
  {
   "attachments": {},
   "cell_type": "markdown",
   "metadata": {},
   "source": [
    "### Extrayendo la descripción de las noticias"
   ]
  },
  {
   "cell_type": "code",
   "execution_count": 62,
   "metadata": {},
   "outputs": [],
   "source": [
    "descriptions = soup.select('.c+.c-d+.c--m-n .c_d')\n",
    "descriptions = [description.text for description in descriptions]"
   ]
  },
  {
   "cell_type": "code",
   "execution_count": 63,
   "metadata": {},
   "outputs": [
    {
     "name": "stdout",
     "output_type": "stream",
     "text": [
      "['La exsenadora por Morena Jesusa Rodríguez ha rechazado el cargo', 'Serrat dio a los españoles un vocabulario y una actitud para estar en la transformación del país. Y, de paso, nos reveló ese país a los que estábamos del otro lado del mar\\n\\n', 'No es lo mismo apresurarse en un trámite parlamentario y colar por la gatera un debate trascendente que bloquear la renovación de un órgano constitucional']\n"
     ]
    }
   ],
   "source": [
    "print(descriptions)"
   ]
  },
  {
   "attachments": {},
   "cell_type": "markdown",
   "metadata": {},
   "source": [
    "### Combinando titulares con descripciones"
   ]
  },
  {
   "cell_type": "code",
   "execution_count": 64,
   "metadata": {},
   "outputs": [],
   "source": [
    "news = [{'title': titles[i], 'description': descriptions[i]} for i in range(3)]"
   ]
  },
  {
   "cell_type": "code",
   "execution_count": 65,
   "metadata": {},
   "outputs": [
    {
     "name": "stdout",
     "output_type": "stream",
     "text": [
      "--------------------------------\n",
      "Titulo: López Obrador propone al actor Alejandro Bichir como embajador de México en Panamá \n",
      "\n",
      "La exsenadora por Morena Jesusa Rodríguez ha rechazado el cargo\n",
      "\n",
      "--------------------------------\n",
      "Titulo: La despedida de Joan Manuel Serrat\n",
      "\n",
      "Serrat dio a los españoles un vocabulario y una actitud para estar en la transformación del país. Y, de paso, nos reveló ese país a los que estábamos del otro lado del mar\n",
      "\n",
      "--------------------------------\n",
      "Titulo: Leila Guerriero, Joan Manuel Serrat y los demás\n",
      "\n",
      "No es lo mismo apresurarse en un trámite parlamentario y colar por la gatera un debate trascendente que bloquear la renovación de un órgano constitucional\n",
      "\n"
     ]
    }
   ],
   "source": [
    "for new in news:\n",
    "  print(\"--------------------------------\")\n",
    "  print(\"Titulo: \" + new['title'] + '\\n')\n",
    "  print(new['description'].strip() + '\\n')\n"
   ]
  }
 ],
 "metadata": {
  "kernelspec": {
   "display_name": "data-engineering",
   "language": "python",
   "name": "python3"
  },
  "language_info": {
   "codemirror_mode": {
    "name": "ipython",
    "version": 3
   },
   "file_extension": ".py",
   "mimetype": "text/x-python",
   "name": "python",
   "nbconvert_exporter": "python",
   "pygments_lexer": "ipython3",
   "version": "3.8.15 (default, Nov 24 2022, 15:19:38) \n[GCC 11.2.0]"
  },
  "orig_nbformat": 4,
  "vscode": {
   "interpreter": {
    "hash": "54021f9008d0c85da40be4f921cb46c2655eb9d60f66381bf8385350b3aac849"
   }
  }
 },
 "nbformat": 4,
 "nbformat_minor": 2
}
