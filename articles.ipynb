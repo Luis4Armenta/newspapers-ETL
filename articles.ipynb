{
 "cells": [
  {
   "attachments": {},
   "cell_type": "markdown",
   "metadata": {},
   "source": [
    "# Extrayendo información de articulos de internet"
   ]
  },
  {
   "attachments": {},
   "cell_type": "markdown",
   "metadata": {},
   "source": [
    "## Articulos de El pais"
   ]
  },
  {
   "cell_type": "code",
   "execution_count": 1,
   "metadata": {},
   "outputs": [],
   "source": [
    "import requests\n",
    "import bs4\n",
    "\n",
    "response = requests.get('https://elpais.com/mexico/2022-12-23/la-policia-detiene-a-la-quinta-implicada-en-el-asesinato-de-los-hermanos-tirado-y-su-tio-en-la-colonia-roma.html')"
   ]
  },
  {
   "cell_type": "code",
   "execution_count": 3,
   "metadata": {},
   "outputs": [],
   "source": [
    "el_pais_article = bs4.BeautifulSoup(response.text, 'html.parser')"
   ]
  },
  {
   "cell_type": "code",
   "execution_count": 22,
   "metadata": {},
   "outputs": [],
   "source": [
    "title = el_pais_article.select_one('.a_t')\n",
    "description = el_pais_article.select_one('div[data-dtm-region=articulo_cuerpo] p')"
   ]
  },
  {
   "cell_type": "code",
   "execution_count": 24,
   "metadata": {},
   "outputs": [
    {
     "name": "stdout",
     "output_type": "stream",
     "text": [
      "La policía ha detenido en la tarde de este jueves a la quinta implicada en el asesinato de los hermanos Tirado y su tío ——Jorge (35 años), Andrés (27) y Luis González (73)— en la colonia Roma de Ciudad de México. La Fiscalía ha anunciado el arresto de una mujer, identificada como Rebeca, que en el momento de su aprehensión portaba “una boleta de empeño de una computadora portátil con características similares a un equipo robado del domicilio donde ocurrieron los hechos, una tableta electrónica y cartuchos útiles”, de acuerdo con el organismo. Según fuentes del Ministerio Público, la sospechosa de ser cómplice del crimen forma parte del entorno de las cuatro personas ya detenidas.\n"
     ]
    }
   ],
   "source": [
    "print(description.text)"
   ]
  },
  {
   "attachments": {},
   "cell_type": "markdown",
   "metadata": {},
   "source": [
    "## Articulos en el sol de México"
   ]
  },
  {
   "cell_type": "code",
   "execution_count": 3,
   "metadata": {},
   "outputs": [],
   "source": [
    "response = requests.get('https://www.elsoldemexico.com.mx/finanzas/tecnologia/elon-musk-un-mal-ejemplo-a-seguir-9356996.html')"
   ]
  },
  {
   "cell_type": "code",
   "execution_count": 4,
   "metadata": {},
   "outputs": [],
   "source": [
    "el_sol_de_mexico_article = bs4.BeautifulSoup(response.text, 'html.parser')"
   ]
  },
  {
   "cell_type": "code",
   "execution_count": 9,
   "metadata": {},
   "outputs": [],
   "source": [
    "title = el_sol_de_mexico_article.select('.title')\n",
    "description = el_sol_de_mexico_article.select('.subtitle')"
   ]
  },
  {
   "cell_type": "code",
   "execution_count": 11,
   "metadata": {},
   "outputs": [
    {
     "name": "stdout",
     "output_type": "stream",
     "text": [
      "\n",
      "Elon Musk: Un mal ejemplo a seguir\n",
      "\n",
      "\n",
      "\n",
      "A menos de dos meses de que tomó el control de Twitter, diversas voces han reprobado su liderazgo arcaico e impersonal, antítesis de los nuevos enfoques de trabajo humanistas e inclusivos\n",
      "\n"
     ]
    }
   ],
   "source": [
    "print(title[0].text + '\\n')\n",
    "print(description[0].text)"
   ]
  },
  {
   "attachments": {},
   "cell_type": "markdown",
   "metadata": {},
   "source": [
    "## Articulos del financiero"
   ]
  },
  {
   "cell_type": "code",
   "execution_count": 7,
   "metadata": {},
   "outputs": [],
   "source": [
    "response = requests.get('https://www.bbc.com/mundo')"
   ]
  },
  {
   "cell_type": "code",
   "execution_count": 10,
   "metadata": {},
   "outputs": [],
   "source": [
    "soup = bs4.BeautifulSoup(response.text, 'html.parser')"
   ]
  },
  {
   "cell_type": "code",
   "execution_count": 11,
   "metadata": {},
   "outputs": [
    {
     "name": "stdout",
     "output_type": "stream",
     "text": [
      "['/mundo/noticias-64060377', '/mundo/noticias-internacional-64019273', 'https://www.youtube.com/watch?v=_g32ammZzRI', '/mundo/noticias-64072042', '/mundo/noticias-america-latina-63995133', '/mundo/noticias-internacional-64058498', '/mundo/noticias-56639252', '/mundo/noticias-64076561', '/mundo/vert-cul-63592685', '/mundo/noticias-64057244', '/mundo/noticias-internacional-64065248', '/mundo/noticias-63987065', '/mundo/noticias-64067684', 'https://www.youtube.com/watch?v=6jbOxAd_T-Q', 'https://www.youtube.com/watch?v=1Dk_QEH7QXM', '/mundo/media-59653472', 'https://www.youtube.com/watch?v=faRZM94HcMA', 'https://www.youtube.com/watch?v=xsAcoe-5WRQ', '/mundo/noticias-64000388', '/mundo/vert-cul-63897095', '/mundo/noticias-internacional-64058925', '/mundo/noticias-america-latina-64052989', '/mundo/noticias-internacional-63943672', '/mundo/noticias-internacional-64006523', '/mundo/noticias-internacional-64026654', '/mundo/noticias-internacional-63982708', '/mundo/noticias-internacional-63931644', '/mundo/noticias-internacional-63724378', '/mundo/noticias-internacional-64051851', '/mundo/noticias-64026798', '/mundo/noticias-64026796', '/mundo/noticias-63981907', '/mundo/noticias-america-latina-63867898', '/mundo/noticias-64057657', '/mundo/noticias-64000386', '/mundo/noticias-63882756', '/mundo/noticias-america-latina-63777482', '/mundo/noticias-internacional-63790275', '/mundo/noticias-internacional-63764726', 'https://www.facebook.com/BBCnewsMundo/', 'https://www.youtube.com/BBCMundo', 'https://www.instagram.com/bbcmundo/', 'https://twitter.com/bbcmundo']\n"
     ]
    }
   ],
   "source": [
    "links = soup.select('.bbc-t81ytv a')\n",
    "links = [link['href'] for link in links]\n",
    "\n",
    "print(links)"
   ]
  },
  {
   "cell_type": "code",
   "execution_count": 21,
   "metadata": {},
   "outputs": [],
   "source": [
    "link = 'https://www.bbc.com/mundo/noticias-internacional-64058498'"
   ]
  },
  {
   "cell_type": "code",
   "execution_count": 22,
   "metadata": {},
   "outputs": [],
   "source": [
    "response = requests.get(link)"
   ]
  },
  {
   "cell_type": "code",
   "execution_count": 23,
   "metadata": {},
   "outputs": [],
   "source": [
    "article = bs4.BeautifulSoup(response.text, 'html.parser')"
   ]
  },
  {
   "cell_type": "code",
   "execution_count": 26,
   "metadata": {},
   "outputs": [
    {
     "name": "stdout",
     "output_type": "stream",
     "text": [
      "Qué es la \"bomba ciclónica\" que provocará la Navidad más fría en 4 décadas en EE.UU.\n",
      "\n",
      "Más de 200 millones de personas están bajo alerta de clima invernal en uno de los días de mayor actividad turística del año. Las temperaturas podrían bajar a menos 57 grados centígrados.\n"
     ]
    }
   ],
   "source": [
    "title = article.select_one('main h1')\n",
    "description = article.select_one('.bbc-19j92fr+.ebmt73l0 p')\n",
    "\n",
    "print(title.text + '\\n')\n",
    "print(description.text)"
   ]
  }
 ],
 "metadata": {
  "kernelspec": {
   "display_name": "data-engineering",
   "language": "python",
   "name": "python3"
  },
  "language_info": {
   "codemirror_mode": {
    "name": "ipython",
    "version": 3
   },
   "file_extension": ".py",
   "mimetype": "text/x-python",
   "name": "python",
   "nbconvert_exporter": "python",
   "pygments_lexer": "ipython3",
   "version": "3.8.15"
  },
  "orig_nbformat": 4,
  "vscode": {
   "interpreter": {
    "hash": "54021f9008d0c85da40be4f921cb46c2655eb9d60f66381bf8385350b3aac849"
   }
  }
 },
 "nbformat": 4,
 "nbformat_minor": 2
}
